{
  "nbformat": 4,
  "nbformat_minor": 0,
  "metadata": {
    "colab": {
      "provenance": [],
      "authorship_tag": "ABX9TyPEUARjH0PRhcJ1EUwSKdLs"
    },
    "kernelspec": {
      "name": "python3",
      "display_name": "Python 3"
    },
    "language_info": {
      "name": "python"
    }
  },
  "cells": [
    {
      "cell_type": "code",
      "execution_count": null,
      "metadata": {
        "id": "vPHZh0N1Zpi-"
      },
      "outputs": [],
      "source": [
        "from imageai.Detection import VideoObjectDetection\n",
        "import os\n",
        "import time\n",
        "import torch\n",
        "import tensorflow as tf\n",
        "sess = tf.compat.v1.keras.backend.get_session()\n",
        "\n",
        "# Start timing\n",
        "start_time = time.time()\n",
        "\n",
        "# Set the execution path\n",
        "execution_path = os.getcwd()\n",
        "\n",
        "\n",
        "def forFrame(frame_number, output_array, output_count):\n",
        "    print(\"FOR FRAME \" , frame_number)\n",
        "    print(\"Output for each object : \", output_array)\n",
        "    print(\"Output count for unique objects : \", output_count)\n",
        "    print(\"------------END OF A FRAME --------------\")\n",
        "\n",
        "def forSeconds(second_number, output_arrays, count_arrays, average_output_count):\n",
        "    print(\"SECOND : \", second_number)\n",
        "    print(\"Array for the outputs of each frame \", output_arrays)\n",
        "    print(\"Array for output count for unique objects in each frame : \", count_arrays)\n",
        "    print(\"Output average count for unique objects in the last second: \", average_output_count)\n",
        "    print(\"------------END OF A SECOND --------------\")\n",
        "\n",
        "def forMinute(minute_number, output_arrays, count_arrays, average_output_count):\n",
        "    print(\"MINUTE : \", minute_number)\n",
        "    print(\"Array for the outputs of each frame \", output_arrays)\n",
        "    print(\"Array for output count for unique objects in each frame : \", count_arrays)\n",
        "    print(\"Output average count for unique objects in the last minute: \", average_output_count)\n",
        "    print(\"------------END OF A MINUTE --------------\")\n",
        "\n",
        "video_detector = VideoObjectDetection()\n",
        "video_detector.setModelTypeAsTinyYOLOv3()\n",
        "video_detector.setModelPath(os.path.join(execution_path, \"/content/tiny-yolov3.pt\"))\n",
        "video_detector.loadModel()\n",
        "\n",
        "video_detector.detectObjectsFromVideo(\n",
        "    input_file_path=os.path.join(execution_path, \"/content/00adbb3f-7757d4ea.mov\"),\n",
        "    output_file_path=os.path.join(execution_path, \"KS\"),\n",
        "    frames_per_second=10,\n",
        "    per_second_function=forSeconds,\n",
        "    per_frame_function=forFrame,\n",
        "    per_minute_function=forMinute,\n",
        "    minimum_percentage_probability=30\n",
        ")\n",
        "# End timing and calculate the duration\n",
        "end_time = time.time()\n",
        "execution_duration = end_time - start_time\n",
        "\n",
        "# print(\"Video saved at:\", output_file_path)\n",
        "print(\"Time taken to run the code:\", execution_duration, \"seconds\")"
      ]
    }
  ]
}