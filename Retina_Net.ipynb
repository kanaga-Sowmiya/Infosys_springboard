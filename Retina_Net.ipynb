{
  "nbformat": 4,
  "nbformat_minor": 0,
  "metadata": {
    "colab": {
      "provenance": [],
      "authorship_tag": "ABX9TyP1HvzdfPX7I9yO9xl37fhU"
    },
    "kernelspec": {
      "name": "python3",
      "display_name": "Python 3"
    },
    "language_info": {
      "name": "python"
    }
  },
  "cells": [
    {
      "cell_type": "code",
      "execution_count": null,
      "metadata": {
        "id": "JOJTH3VxaRBu"
      },
      "outputs": [],
      "source": [
        "from imageai.Detection import VideoObjectDetection\n",
        "import os\n",
        "import time\n",
        "\n",
        "# Start timing\n",
        "start_time = time.time()\n",
        "\n",
        "execution_path = os.getcwd()\n",
        "\n",
        "detector = VideoObjectDetection()\n",
        "\n",
        "#to use TinyYolo model\n",
        "detector.setModelTypeAsTinyYOLOv3()\n",
        "\n",
        "detector.setModelPath( os.path.join(execution_path , \"models/tiny-yolov3.pt\"))\n",
        "detector.loadModel()\n",
        "\n",
        "video_path = detector.detectObjectsFromVideo(input_file_path=os.path.join(execution_path, \"videos/00abd8a7-ecd6fc56.mov\"), output_file_path=os.path.join(execution_path, \"traffic_detected_retinanet\"), frames_per_second=10, log_progress=True)\n",
        "print(video_path)\n",
        "\n",
        "# End timing and calculate the duration\n",
        "end_time = time.time()\n",
        "execution_duration = end_time - start_time\n",
        "\n",
        "# print(\"Video saved at:\", output_file_path)\n",
        "print(\"Time taken to run the code:\", execution_duration, \"seconds\")"
      ]
    }
  ]
}